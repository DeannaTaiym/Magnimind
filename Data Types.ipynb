{
 "cells": [
  {
   "cell_type": "code",
   "execution_count": 13,
   "id": "df28127d",
   "metadata": {},
   "outputs": [
    {
     "name": "stdout",
     "output_type": "stream",
     "text": [
      "Compound interest : 2210.6814074060812\n"
     ]
    }
   ],
   "source": [
    "#Suppose you invested in Bitcoin at the end of 2020 when Bitcoin \n",
    "#gained a lot of value. What would be your money at the end of a \n",
    "#week if you had invested $1000 with an average daily increase of 12% ? \n",
    "#You can solve the problem using Python.\n",
    "\n",
    "p = float(1000)\n",
    " \n",
    "t = float(7)\n",
    " \n",
    "r = float(12)\n",
    " \n",
    "#compute compound interest\n",
    "ci =  p * (pow((1 + r / 100), t)) #took this formula from online,if there's an easier way please let me know\n",
    " \n",
    "#print\n",
    "print(\"Compound interest : {}\".format(ci))"
   ]
  },
  {
   "cell_type": "code",
   "execution_count": 16,
   "id": "4b47cff9",
   "metadata": {},
   "outputs": [
    {
     "name": "stdout",
     "output_type": "stream",
     "text": [
      "When we buy bitcoin with 1000 USD at the beginning of the week, \n",
      "we would earn 1210.68 USD at the end of the week, \n",
      "with an average gain of 12\\%.\n"
     ]
    }
   ],
   "source": [
    "#Print the text in quotes with Python.\n",
    "#You must get the numbers from variables using .format() notation. \n",
    "#Because the text is long, you might consider writing in two lines:\n",
    "\n",
    "print(\"\"\"When we buy bitcoin with {} USD at the beginning of the week, \n",
    "we would earn {} USD at the end of the week, \n",
    "with an average gain of {}\\%.\"\"\".format('1000', '1210.68', '12'))"
   ]
  },
  {
   "cell_type": "code",
   "execution_count": 17,
   "id": "109269df",
   "metadata": {},
   "outputs": [
    {
     "name": "stdout",
     "output_type": "stream",
     "text": [
      "Enter temperature in Fahrenheit: 26\n",
      "-3.3333333333333335\n"
     ]
    }
   ],
   "source": [
    "#Get the temperature in Fahrenheit from user and write a code to \n",
    "#convert it to Celcius. For conversion, you can use this \n",
    "#formula: C = (5/9) * (F - 32)\n",
    "#Enter the temperature in Fahrenheit:\n",
    "\n",
    "F=float(input('Enter temperature in Fahrenheit: '))\n",
    "C = (5/9) * (F-32)\n",
    "print(C)\n",
    "                 "
   ]
  },
  {
   "cell_type": "code",
   "execution_count": 23,
   "id": "d69d7fb9",
   "metadata": {},
   "outputs": [
    {
     "name": "stdout",
     "output_type": "stream",
     "text": [
      "enter a 3 digit number: 365\n",
      "The sum of digits in the number is 14\n"
     ]
    }
   ],
   "source": [
    "#Get a three digit number the from user and \n",
    "#calculate the sum of the digits in the integer.\n",
    "\n",
    "x=input('enter a 3 digit number: ')\n",
    "y=sum(int(digit) for digit in str(x))\n",
    "print('The sum of digits in the number is', y)"
   ]
  },
  {
   "cell_type": "code",
   "execution_count": 25,
   "id": "26aa1902",
   "metadata": {},
   "outputs": [
    {
     "name": "stdout",
     "output_type": "stream",
     "text": [
      "Input lengths of shorter triangle sides:\n",
      "a: 8\n",
      "b: 6\n",
      "The length of the hypotenuse is: 10.0\n"
     ]
    }
   ],
   "source": [
    "#Write some code to calculate the hypotenuse of a right angled triangle. \n",
    "#Get the side lengths from the user.\n",
    "\n",
    "from math import sqrt\n",
    "print(\"Input lengths of shorter triangle sides:\")\n",
    "a = float(input(\"a: \"))\n",
    "b = float(input(\"b: \"))\n",
    "c = sqrt(a**2 + b**2)\n",
    "print(\"The length of the hypotenuse is:\", c )"
   ]
  }
 ],
 "metadata": {
  "kernelspec": {
   "display_name": "Python 3 (ipykernel)",
   "language": "python",
   "name": "python3"
  },
  "language_info": {
   "codemirror_mode": {
    "name": "ipython",
    "version": 3
   },
   "file_extension": ".py",
   "mimetype": "text/x-python",
   "name": "python",
   "nbconvert_exporter": "python",
   "pygments_lexer": "ipython3",
   "version": "3.9.7"
  }
 },
 "nbformat": 4,
 "nbformat_minor": 5
}
