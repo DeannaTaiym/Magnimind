{
 "cells": [
  {
   "cell_type": "code",
   "execution_count": 2,
   "id": "df28127d",
   "metadata": {},
   "outputs": [
    {
     "name": "stdout",
     "output_type": "stream",
     "text": [
      "Compound interest : 2299.9358748811574\n"
     ]
    }
   ],
   "source": [
    "#Suppose you invested in Bitcoin at the end of 2020 when Bitcoin \n",
    "#gained a lot of value. What would be your money at the end of a \n",
    "#week if you had invested $1000 with an average daily increase of 12%? \n",
    "#You can solve the problem using Python.\n",
    "\n",
    "p = 1000 #principal\n",
    " \n",
    "t = 7 #how many times you receive interest or elapsed period\n",
    "\n",
    "n = 7 #number of times interest rate applied per time period\n",
    " \n",
    "r = 0.12 #annual interest rate\n",
    " \n",
    "#compute compound interest\n",
    "ci =  p * (pow((1 + r / n), n*t))\n",
    " \n",
    "#print\n",
    "print(\"Compound interest : {}\".format(ci))"
   ]
  },
  {
   "cell_type": "code",
   "execution_count": 16,
   "id": "4b47cff9",
   "metadata": {
    "scrolled": true
   },
   "outputs": [
    {
     "name": "stdout",
     "output_type": "stream",
     "text": [
      "When we buy bitcoin with 1000 USD at the beginning of the week, \n",
      "we would earn 1210.68 USD at the end of the week, \n",
      "with an average gain of 12\\%.\n"
     ]
    }
   ],
   "source": [
    "#Print the text in quotes with Python.\n",
    "#You must get the numbers from variables using .format() notation. \n",
    "#Because the text is long, you might consider writing in two lines:\n",
    "\n",
    "print(\"\"\"When we buy bitcoin with {} USD at the beginning of the week, \n",
    "we would earn {} USD at the end of the week, \n",
    "with an average gain of {}\\%.\"\"\".format('1000', '1210.68', '12'))"
   ]
  },
  {
   "cell_type": "code",
   "execution_count": 6,
   "id": "109269df",
   "metadata": {},
   "outputs": [
    {
     "name": "stdout",
     "output_type": "stream",
     "text": [
      "Enter temperature in Fahrenheit: 26\n"
     ]
    },
    {
     "data": {
      "text/plain": [
       "-3.33"
      ]
     },
     "execution_count": 6,
     "metadata": {},
     "output_type": "execute_result"
    }
   ],
   "source": [
    "#Get the temperature in Fahrenheit from user and write a code to \n",
    "#convert it to Celcius. For conversion, you can use this \n",
    "#formula: C = (5/9) * (F - 32)\n",
    "#Enter the temperature in Fahrenheit:\n",
    "\n",
    "f= float(input('Enter temperature in Fahrenheit: '))\n",
    "c = (5/9) * (f-32)\n",
    "round(c,2)\n",
    "                 "
   ]
  },
  {
   "cell_type": "code",
   "execution_count": 23,
   "id": "d69d7fb9",
   "metadata": {},
   "outputs": [
    {
     "name": "stdout",
     "output_type": "stream",
     "text": [
      "enter a 3 digit number: 365\n",
      "The sum of digits in the number is 14\n"
     ]
    }
   ],
   "source": [
    "#Get a three digit number the from user and \n",
    "#calculate the sum of the digits in the integer.\n",
    "\n",
    "x=input('enter a 3 digit number: ')\n",
    "y=sum(int(digit) for digit in str(x))\n",
    "print('The sum of digits in the number is', y)"
   ]
  },
  {
   "cell_type": "code",
   "execution_count": 28,
   "id": "7d708940",
   "metadata": {},
   "outputs": [
    {
     "name": "stdout",
     "output_type": "stream",
     "text": [
      "Enter a 3 digit number: 365\n",
      "The sum of digits in the number is 14\n"
     ]
    }
   ],
   "source": [
    "#Get a three digit number the from user and \n",
    "#calculate the sum of the digits in the integer.\n",
    "\n",
    "x=input('Enter a 3 digit number: ')\n",
    "y=int(x[0])+int(x[1])+int(x[2])\n",
    "print('The sum of digits in the number is', y)"
   ]
  },
  {
   "cell_type": "code",
   "execution_count": 30,
   "id": "26aa1902",
   "metadata": {},
   "outputs": [
    {
     "name": "stdout",
     "output_type": "stream",
     "text": [
      "Input length of shorter triangle side:\n",
      "a: 6\n",
      "b: 8\n",
      "The length of the hypotenuse is: 10.0\n"
     ]
    }
   ],
   "source": [
    "#Write some code to calculate the hypotenuse of a right angled triangle. \n",
    "#Get the side lengths from the user.\n",
    "\n",
    "from math import sqrt\n",
    "print(\"Input length of shorter triangle side:\")\n",
    "a = int(input(\"a: \"))\n",
    "b = int(input(\"b: \"))\n",
    "c = sqrt(a**2 + b**2)\n",
    "print(\"The length of the hypotenuse is:\", c )"
   ]
  }
 ],
 "metadata": {
  "kernelspec": {
   "display_name": "Python 3 (ipykernel)",
   "language": "python",
   "name": "python3"
  },
  "language_info": {
   "codemirror_mode": {
    "name": "ipython",
    "version": 3
   },
   "file_extension": ".py",
   "mimetype": "text/x-python",
   "name": "python",
   "nbconvert_exporter": "python",
   "pygments_lexer": "ipython3",
   "version": "3.9.7"
  }
 },
 "nbformat": 4,
 "nbformat_minor": 5
}
