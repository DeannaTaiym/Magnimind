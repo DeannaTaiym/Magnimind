{
 "cells": [
  {
   "cell_type": "code",
   "execution_count": 6,
   "id": "b0b398ef",
   "metadata": {},
   "outputs": [
    {
     "name": "stdout",
     "output_type": "stream",
     "text": [
      "Choose two different days \n",
      "e.g \"12\" for Monday and Tuesday 47\n",
      "Remaining 5 days are \n",
      "Monday\n",
      "Tuesday\n",
      "Wednesday\n",
      "Friday\n",
      "Saturday\n"
     ]
    }
   ],
   "source": [
    "#Create a dictionary with 7 days. \n",
    "#Ask the user to choose 2 different days by listing the \n",
    "#(e.g. \"12\" for Monday and Tuesday). Delete the user-selected \n",
    "#days from the dictionary and print the remaining 5 days on the\n",
    "#screen.\n",
    "\n",
    "days = {1:\"Monday\",2:\"Tuesday\",3:\"Wednesday\",4:\"Thursday\",5:\"Friday\",6:\"Saturday\",7:\"Sunday\"}\n",
    "\n",
    "inp = int(input('Choose two different days \\ne.g \"12\" for Monday and Tuesday '))\n",
    "\n",
    "day1 = inp%10 #dont understand this part\n",
    "day2 = int(inp/10) #dont understand this part\n",
    "\n",
    "days.pop(day1)\n",
    "days.pop(day2)\n",
    "\n",
    "print('Remaining 5 days are ')\n",
    "\n",
    "for i in days:\n",
    "    \n",
    "    print(days[i])\n"
   ]
  },
  {
   "cell_type": "code",
   "execution_count": 5,
   "id": "70b0f5a8",
   "metadata": {},
   "outputs": [
    {
     "data": {
      "text/plain": [
       "{'Michael': 20, 'Linda': 30}"
      ]
     },
     "execution_count": 5,
     "metadata": {},
     "output_type": "execute_result"
    }
   ],
   "source": [
    "#Create a dictionary with the following personnel. Use names as keys.\n",
    "#(Michael (age: 20) & (Linda (age: 30)\n",
    "\n",
    "pers_age_dict = {'Michael':20, 'Linda':30}\n",
    "pers_age_dict"
   ]
  },
  {
   "cell_type": "code",
   "execution_count": 28,
   "id": "3e3525ef",
   "metadata": {
    "scrolled": true
   },
   "outputs": [
    {
     "data": {
      "text/plain": [
       "{'Michael': {'personal info': {'age': 20,\n",
       "   'gender': 'Male',\n",
       "   'children': {'karen': {'age': 12,\n",
       "     'gender': 'Female',\n",
       "     'Greg': {'age': 7, 'gender': 'Male'}}}}},\n",
       " 'Linda': {'personal info': {'age': 30,\n",
       "   'gender': 'Female',\n",
       "   'children': {'susan': {'age': 6, 'gender': 'Female'}}}}}"
      ]
     },
     "execution_count": 28,
     "metadata": {},
     "output_type": "execute_result"
    }
   ],
   "source": [
    "#Add child information to Michael and Linda. \n",
    "#Michael has two children (Karen (age : 12, female) and \n",
    "#Greg (age : 7, male) and Linda has one child \n",
    "#(Susan (age: 6, female))\n",
    "\n",
    "personnel_dict = {\n",
    "    'Michael': {\n",
    "        'personal info':{\n",
    "            'age':20, \n",
    "            'gender':'Male',\n",
    "        'children': {\n",
    "            'karen': {\n",
    "                'age': 12, \n",
    "                'gender': 'Female',\n",
    "            'Greg': {\n",
    "                'age':7, \n",
    "                'gender':'Male'\n",
    "            }}}}},\n",
    "    'Linda' : {\n",
    "        'personal info': {\n",
    "            'age':30,\n",
    "            'gender':'Female',\n",
    "        'children':{\n",
    "            'susan': {\n",
    "                'age':6, \n",
    "                'gender': 'Female'\n",
    "            }}}}}\n",
    "personnel_dict"
   ]
  },
  {
   "cell_type": "code",
   "execution_count": 30,
   "id": "d3b500a1",
   "metadata": {},
   "outputs": [
    {
     "data": {
      "text/plain": [
       "['Karen', 'Greg']"
      ]
     },
     "execution_count": 30,
     "metadata": {},
     "output_type": "execute_result"
    }
   ],
   "source": [
    "michael_child = ['Karen','Greg']\n",
    "michael_child"
   ]
  }
 ],
 "metadata": {
  "kernelspec": {
   "display_name": "Python 3 (ipykernel)",
   "language": "python",
   "name": "python3"
  },
  "language_info": {
   "codemirror_mode": {
    "name": "ipython",
    "version": 3
   },
   "file_extension": ".py",
   "mimetype": "text/x-python",
   "name": "python",
   "nbconvert_exporter": "python",
   "pygments_lexer": "ipython3",
   "version": "3.9.7"
  }
 },
 "nbformat": 4,
 "nbformat_minor": 5
}
