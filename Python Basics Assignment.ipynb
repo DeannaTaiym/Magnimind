{
 "cells": [
  {
   "cell_type": "code",
   "execution_count": 7,
   "id": "cd18cedf",
   "metadata": {},
   "outputs": [
    {
     "name": "stdout",
     "output_type": "stream",
     "text": [
      "Enter your first name: Deanna\n",
      "Enter your last name: Taiym\n",
      "Deanna Taiym\n"
     ]
    }
   ],
   "source": [
    "#Write a code that outputs your name and surname in one line.\n",
    "\n",
    "x=input('Enter your first name: ')\n",
    "y=input('Enter your last name: ')\n",
    "print(x+' '+y)"
   ]
  },
  {
   "cell_type": "code",
   "execution_count": 13,
   "id": "001acff3",
   "metadata": {},
   "outputs": [
    {
     "name": "stdout",
     "output_type": "stream",
     "text": [
      "Enter your first name:Deanna\n",
      "Enter your last name:Taiym\n",
      "Deanna \n",
      " Taiym\n"
     ]
    }
   ],
   "source": [
    "#Write a 1-line code that outputs your name and surname in \n",
    "#two separate lines by using a single print() call.\n",
    "\n",
    "x=input('Enter your first name:')\n",
    "y=input('Enter your last name:')\n",
    "print(x,'\\n',y.strip())#how can i remove the space before the second input?"
   ]
  },
  {
   "cell_type": "code",
   "execution_count": 14,
   "id": "3c8383ff",
   "metadata": {},
   "outputs": [
    {
     "name": "stdout",
     "output_type": "stream",
     "text": [
      "I don't want to be an \"artist\". I want to be a \"Data Scientist.\n"
     ]
    }
   ],
   "source": [
    "#Use print() function that returns the following text. \n",
    "#Notice the quotes in the text. \n",
    "#Those quotes should be seen in the output!:\n",
    "#`I don't want to be an \"artist\". I want to be a \"Data Scientist.\"` \n",
    "\n",
    "print(\"\"\"I don't want to be an \"artist\". I want to be a \"Data Scientist.\"\"\")\n"
   ]
  }
 ],
 "metadata": {
  "kernelspec": {
   "display_name": "Python 3 (ipykernel)",
   "language": "python",
   "name": "python3"
  },
  "language_info": {
   "codemirror_mode": {
    "name": "ipython",
    "version": 3
   },
   "file_extension": ".py",
   "mimetype": "text/x-python",
   "name": "python",
   "nbconvert_exporter": "python",
   "pygments_lexer": "ipython3",
   "version": "3.9.7"
  }
 },
 "nbformat": 4,
 "nbformat_minor": 5
}
