{
 "cells": [
  {
   "cell_type": "code",
   "execution_count": 82,
   "metadata": {
    "id": "IMM7xUXECatk",
    "outputId": "64eb1a34-5ea4-4028-cbb3-5fdf28241d78"
   },
   "outputs": [],
   "source": [
    "import numpy as np"
   ]
  },
  {
   "cell_type": "markdown",
   "metadata": {
    "id": "1M8wyFhxCatq"
   },
   "source": [
    "1. Write a NumPy program to convert a list of numeric value into a one-dimensional NumPy array.\n",
    "\n",
    "Expected Output:\n",
    "Original List: [12.23, 13.32, 100, 36.32]\n",
    "\n",
    "One-dimensional NumPy array: [ 12.23 13.32 100. 36.32]\n",
    "\n"
   ]
  },
  {
   "cell_type": "markdown",
   "metadata": {
    "id": "_rqyAkUSCatu"
   },
   "source": [
    "![python-numpy-image-exercise-2.png](attachment:python-numpy-image-exercise-2.png)"
   ]
  },
  {
   "cell_type": "code",
   "execution_count": 83,
   "metadata": {
    "id": "B7g6mv3BCatw"
   },
   "outputs": [
    {
     "name": "stdout",
     "output_type": "stream",
     "text": [
      "Original List: [12.23, 13.32, 100, 36.32]\n",
      "One-dimensional NumPy array:  [ 12.23  13.32 100.    36.32]\n"
     ]
    }
   ],
   "source": [
    "#comma will add what's to follow\n",
    "l = [12.23, 13.32, 100, 36.32]\n",
    "print(\"Original List:\",l)\n",
    "a = np.array(l)\n",
    "print(\"One-dimensional NumPy array: \",a)"
   ]
  },
  {
   "cell_type": "markdown",
   "metadata": {
    "id": "YQCJet6qCatx"
   },
   "source": [
    "2. Write a NumPy program to create a 3x3 matrix with values ranging from 2 to 10. \n",
    "\n",
    "Expected Output:\n",
    "\n",
    "[[ 2 3 4]\n",
    "[ 5 6 7]\n",
    "[ 8 9 10]]"
   ]
  },
  {
   "cell_type": "markdown",
   "metadata": {
    "id": "sThtzje_Catz"
   },
   "source": [
    "![python-numpy-image-exercise-3.png](attachment:python-numpy-image-exercise-3.png)"
   ]
  },
  {
   "cell_type": "code",
   "execution_count": 56,
   "metadata": {
    "id": "Nv8qYPXMCat0"
   },
   "outputs": [
    {
     "data": {
      "text/plain": [
       "array([[ 2,  3,  4],\n",
       "       [ 5,  6,  7],\n",
       "       [ 8,  9, 10]])"
      ]
     },
     "execution_count": 56,
     "metadata": {},
     "output_type": "execute_result"
    }
   ],
   "source": [
    "#create an array of # from 2-10 is .arrange\n",
    "#can make it equal to x then print \n",
    "\n",
    "np.arange(2,11).reshape([3,3])"
   ]
  },
  {
   "cell_type": "markdown",
   "metadata": {
    "id": "teiYiXTVCat1"
   },
   "source": [
    " 3. Write a NumPy program to create a null vector of size 10 and update sixth value to 11.\n",
    " \n",
    "[ 0. 0. 0. 0. 0. 0. 0. 0. 0. 0.]\n",
    "\n",
    "Update sixth value to 11\n",
    "\n",
    "[ 0. 0. 0. 0. 0. 0. 11. 0. 0. 0.]"
   ]
  },
  {
   "cell_type": "markdown",
   "metadata": {
    "id": "NTC2o4BgCat3"
   },
   "source": [
    "![python-numpy-image-exercise-4.png](attachment:python-numpy-image-exercise-4.png)"
   ]
  },
  {
   "cell_type": "code",
   "execution_count": 85,
   "metadata": {
    "id": "_HNniWPJCat4"
   },
   "outputs": [
    {
     "name": "stdout",
     "output_type": "stream",
     "text": [
      "[0. 0. 0. 0. 0. 0. 0. 0. 0. 0.]\n",
      "[ 0.  0.  0.  0.  0.  0. 11.  0.  0.  0.]\n"
     ]
    }
   ],
   "source": [
    "zeroarray =np.zeros(10)\n",
    "print(zeroarray)\n",
    "zeroarray[6]=11\n",
    "print(zeroarray)"
   ]
  },
  {
   "cell_type": "markdown",
   "metadata": {
    "id": "1FYgGv5lCat4"
   },
   "source": [
    "4. Write a NumPy program to create an array with values ranging from 12 to 38.\n",
    "\n",
    "Expected Output:\n",
    "\n",
    "[12 13 14 15 16 17 18 19 20 21 22 23 24 25 26 27 28 29 30 31 32 33 34 35 36 37]"
   ]
  },
  {
   "cell_type": "markdown",
   "metadata": {
    "id": "vfwEFSpyCat6"
   },
   "source": [
    "![python-numpy-image-exercise-5.png](attachment:python-numpy-image-exercise-5.png)"
   ]
  },
  {
   "cell_type": "code",
   "execution_count": 58,
   "metadata": {
    "id": "OsxGhz4ACat7"
   },
   "outputs": [
    {
     "data": {
      "text/plain": [
       "array([12, 13, 14, 15, 16, 17, 18, 19, 20, 21, 22, 23, 24, 25, 26, 27, 28,\n",
       "       29, 30, 31, 32, 33, 34, 35, 36, 37, 38])"
      ]
     },
     "execution_count": 58,
     "metadata": {},
     "output_type": "execute_result"
    }
   ],
   "source": [
    "#not sure the discrepance with the instruction\n",
    "#and expected output\n",
    "\n",
    "np.arange(12,39)"
   ]
  },
  {
   "cell_type": "markdown",
   "metadata": {
    "id": "vkIcO_F4Cat8"
   },
   "source": [
    "5. Write a NumPy program to reverse an array (first element becomes last). \n",
    "\n",
    "Original array:\n",
    "[12 13 14 15 16 17 18 19 20 21 22 23 24 25 26 27 28 29 30 31 32 33 34 35 36 37]\n",
    "\n",
    "Reverse array:\n",
    "[37 36 35 34 33 32 31 30 29 28 27 26 25 24 23 22 21 20 19 18 17 16 15 14 13 12]"
   ]
  },
  {
   "cell_type": "markdown",
   "metadata": {
    "id": "VpdPLbInCat8"
   },
   "source": [
    "![python-numpy-image-exercise-6.png](attachment:python-numpy-image-exercise-6.png)"
   ]
  },
  {
   "cell_type": "code",
   "execution_count": 86,
   "metadata": {
    "id": "gZX7oakaCat9"
   },
   "outputs": [
    {
     "name": "stdout",
     "output_type": "stream",
     "text": [
      "[12 13 14 15 16 17 18 19 20 21 22 23 24 25 26 27 28 29 30 31 32 33 34 35\n",
      " 36 37]\n",
      "[37 36 35 34 33 32 31 30 29 28 27 26 25 24 23 22 21 20 19 18 17 16 15 14\n",
      " 13 12]\n"
     ]
    }
   ],
   "source": [
    "orig_array=np.arange(12,38)\n",
    "revarray=orig_array[::-1] #start, stop, 2 is steps, rvs -1\n",
    "print(orig_array)\n",
    "print(revarray)"
   ]
  },
  {
   "cell_type": "markdown",
   "metadata": {
    "id": "pad-t8hcCat9"
   },
   "source": [
    "6. Write a NumPy program to convert an array to a float type.\n",
    "\n",
    "Sample output:\n",
    "\n",
    "Original array\n",
    "[1, 2, 3, 4]\n",
    "\n",
    "Array converted to a float type:\n",
    "[ 1. 2. 3. 4.]"
   ]
  },
  {
   "cell_type": "markdown",
   "metadata": {
    "id": "6-xvVTttCat-"
   },
   "source": [
    "![python-numpy-image-exercise-7.png](attachment:python-numpy-image-exercise-7.png)"
   ]
  },
  {
   "cell_type": "code",
   "execution_count": 63,
   "metadata": {
    "id": "LZAE_tY6Cat_"
   },
   "outputs": [
    {
     "name": "stdout",
     "output_type": "stream",
     "text": [
      "[1 2 3 4]\n",
      "[1. 2. 3. 4.]\n"
     ]
    }
   ],
   "source": [
    "#float means includes decimals\n",
    "\n",
    "a=[1, 2, 3, 4]\n",
    "intarray=np.array(a)\n",
    "print(intarray)\n",
    "floatarray = np.asfarray(intarray)\n",
    "print(floatarray)"
   ]
  },
  {
   "cell_type": "markdown",
   "metadata": {
    "id": "Jq0ImjowCat_"
   },
   "source": [
    "7. Write a NumPy program to create a 2d array with 1 on the border and 0 inside. \n",
    "\n",
    "Expected Output:\n",
    "\n",
    "Original array:\n",
    "[[ 1. 1. 1. 1. 1.]\n",
    "\n",
    "...................\n",
    "\n",
    "[ 1. 1. 1. 1. 1.]]\n",
    "\n",
    "1 on the border and 0 inside in the array\n",
    "\n",
    "[[ 1. 1. 1. 1. 1.]]\n",
    "\n",
    "...................\n",
    "\n",
    "[ 1. 1. 1. 1. 1.]]"
   ]
  },
  {
   "cell_type": "markdown",
   "metadata": {
    "id": "Wfq6vb8SCauA"
   },
   "source": [
    "![python-numpy-image-exercise-8.png](attachment:python-numpy-image-exercise-8.png)"
   ]
  },
  {
   "cell_type": "code",
   "execution_count": 91,
   "metadata": {
    "id": "P_WsVymdCauB"
   },
   "outputs": [
    {
     "name": "stdout",
     "output_type": "stream",
     "text": [
      "Original array:\n",
      "[[1. 1. 1. 1. 1.]\n",
      " [1. 1. 1. 1. 1.]\n",
      " [1. 1. 1. 1. 1.]\n",
      " [1. 1. 1. 1. 1.]\n",
      " [1. 1. 1. 1. 1.]]\n",
      "1 on the border and 0 inside in the array\n",
      "[[1. 1. 1. 1. 1.]\n",
      " [1. 0. 0. 0. 1.]\n",
      " [1. 0. 0. 0. 1.]\n",
      " [1. 0. 0. 0. 1.]\n",
      " [1. 1. 1. 1. 1.]]\n"
     ]
    }
   ],
   "source": [
    "#creat an array of all ones\n",
    "#start from second row to second from last 1,-1\n",
    "\n",
    "x = np.ones((5,5))\n",
    "print(\"Original array:\")\n",
    "print(x)\n",
    "print(\"1 on the border and 0 inside in the array\")\n",
    "x[1:-1,1:-1] = 0\n",
    "print(x)\n"
   ]
  },
  {
   "cell_type": "markdown",
   "metadata": {
    "id": "sLqMyskeCauB"
   },
   "source": [
    "8. Write a NumPy program to add a border (filled with 0's) around an existing array. \n",
    "\n",
    "Expected Output:\n",
    "\n",
    "Original array:\n",
    "\n",
    "[[ 1. 1. 1.]\n",
    "\n",
    "[ 1. 1. 1.]\n",
    "\n",
    "[ 1. 1. 1.]]\n",
    "\n",
    "1 on the border and 0 inside in the array\n",
    "\n",
    "[[ 0. 0. 0. 0. 0.]\n",
    "\n",
    "...........\n",
    "\n",
    "[ 0. 0. 0. 0. 0.]]"
   ]
  },
  {
   "cell_type": "markdown",
   "metadata": {
    "id": "eXqyb7tpCauC"
   },
   "source": [
    "![python-numpy-image-exercise-9.png](attachment:python-numpy-image-exercise-9.png)"
   ]
  },
  {
   "cell_type": "code",
   "execution_count": 92,
   "metadata": {
    "id": "RKn_7fcgCauC"
   },
   "outputs": [
    {
     "name": "stdout",
     "output_type": "stream",
     "text": [
      "Original array:\n",
      "[[1. 1. 1.]\n",
      " [1. 1. 1.]\n",
      " [1. 1. 1.]]\n",
      "0 on the border and 1 inside in the array\n",
      "[[0. 0. 0. 0. 0.]\n",
      " [0. 1. 1. 1. 0.]\n",
      " [0. 1. 1. 1. 0.]\n",
      " [0. 1. 1. 1. 0.]\n",
      " [0. 0. 0. 0. 0.]]\n"
     ]
    }
   ],
   "source": [
    "x = np.ones((3,3)) #determines dimensionality\n",
    "print(\"Original array:\")\n",
    "print(x)\n",
    "print(\"0 on the border and 1 inside in the array\")\n",
    "x = np.pad(x, pad_width=1, mode='constant', constant_values=0) #padding useful in deep learning\n",
    "print(x)"
   ]
  },
  {
   "cell_type": "markdown",
   "metadata": {
    "id": "4f27xeSjCauD"
   },
   "source": [
    "9. Write a NumPy program to create a 8x8 matrix and fill it with a checkerboard pattern. \n",
    "\n",
    "Checkerboard pattern:\n",
    "\n",
    "[[0 1 0 1 0 1 0 1]\n",
    "\n",
    "..........\n",
    "\n",
    "[0 1 0 1 0 1 0 1]\n",
    "\n",
    "[1 0 1 0 1 0 1 0]]"
   ]
  },
  {
   "cell_type": "code",
   "execution_count": 96,
   "metadata": {
    "id": "X3WvouDlCauD"
   },
   "outputs": [
    {
     "name": "stdout",
     "output_type": "stream",
     "text": [
      "Checkerboard pattern:\n",
      "[[0 1 0 1 0 1 0 1]\n",
      " [1 0 1 0 1 0 1 0]\n",
      " [0 1 0 1 0 1 0 1]\n",
      " [1 0 1 0 1 0 1 0]\n",
      " [0 1 0 1 0 1 0 1]\n",
      " [1 0 1 0 1 0 1 0]\n",
      " [0 1 0 1 0 1 0 1]\n",
      " [1 0 1 0 1 0 1 0]]\n"
     ]
    }
   ],
   "source": [
    "x = np.ones((3,3)) #don't understand the reasoning for this line of code\n",
    "print(\"Checkerboard pattern:\")\n",
    "x = np.zeros((8,8),dtype=int)\n",
    "x[1::2,::2] = 1\n",
    "x[::2,1::2] = 1\n",
    "print(x)"
   ]
  },
  {
   "cell_type": "markdown",
   "metadata": {
    "id": "gzyWf5aCCauE"
   },
   "source": [
    "10. Write a NumPy program to convert a list and tuple into arrays. \n",
    "\n",
    "List to array:\n",
    "\n",
    "[1 2 3 4 5 6 7 8]\n",
    "\n",
    "Tuple to array:\n",
    "\n",
    "[[8 4 6]\n",
    "[1 2 3]]"
   ]
  },
  {
   "cell_type": "markdown",
   "metadata": {
    "id": "S_WSHB3iCauE"
   },
   "source": [
    "![python-numpy-image-exercise-11.png](attachment:python-numpy-image-exercise-11.png)"
   ]
  },
  {
   "cell_type": "code",
   "execution_count": 97,
   "metadata": {
    "id": "ewhwgLqoCauF"
   },
   "outputs": [
    {
     "name": "stdout",
     "output_type": "stream",
     "text": [
      "List to array: \n",
      "[1 2 3 4 5 6 7 8]\n",
      "Tuple to array: \n",
      "[[8 4 6]\n",
      " [1 2 3]]\n"
     ]
    }
   ],
   "source": [
    "my_list = [1, 2, 3, 4, 5, 6, 7, 8]\n",
    "print(\"List to array: \")\n",
    "print(np.asarray(my_list))\n",
    "my_tuple = ([8, 4, 6], [1, 2, 3]) #2-tuple\n",
    "print(\"Tuple to array: \")\n",
    "print(np.asarray(my_tuple))"
   ]
  },
  {
   "cell_type": "markdown",
   "metadata": {
    "id": "u1zpOy_vCauF"
   },
   "source": [
    "11. Write a NumPy program to append values to the end of an array.\n",
    "\n",
    "Expected Output:\n",
    "\n",
    "Original array:\n",
    "[10, 20, 30]\n",
    "\n",
    "After append values to the end of the array:\n",
    "[10 20 30 40 50 60 70 80 90]"
   ]
  },
  {
   "cell_type": "markdown",
   "metadata": {
    "id": "v9FYhnlICauG"
   },
   "source": [
    "![python-numpy-image-exercise-12.png](attachment:python-numpy-image-exercise-12.png)"
   ]
  },
  {
   "cell_type": "code",
   "execution_count": 2,
   "metadata": {
    "id": "ANrQkvU1CauG"
   },
   "outputs": [],
   "source": [
    "#Adding values at the end of the array\n",
    "#data is not fixed and is prone to change.\n",
    "#we can use numpy.append(). \n",
    "#This function appends a single value & multiple values \n",
    "#Adds at the end of the array.\n",
    "#Syntax : numpy.append(array, values, axis = None)\n",
    "#Parameters :\n",
    "#array : Input array.\n",
    "#values : values to be added in the array.\n",
    "#axis : Axis along which we want to insert the values.\n",
    "#Returns : An copy of array with values being appended at the end\n",
    "#along a given axis.\n",
    "\n",
    "import numpy as np"
   ]
  },
  {
   "cell_type": "code",
   "execution_count": 12,
   "metadata": {},
   "outputs": [
    {
     "data": {
      "text/plain": [
       "array([10, 20, 30])"
      ]
     },
     "execution_count": 12,
     "metadata": {},
     "output_type": "execute_result"
    }
   ],
   "source": [
    "#Establish original array\n",
    "#brackets inside the parenthesis\n",
    "\n",
    "x=np.array([10,20,30])\n",
    "x"
   ]
  },
  {
   "cell_type": "code",
   "execution_count": 41,
   "metadata": {},
   "outputs": [
    {
     "name": "stdout",
     "output_type": "stream",
     "text": [
      "[ 1.  2.  3. 40. 50. 60. 70. 80. 90.]\n",
      "1\n"
     ]
    }
   ],
   "source": [
    "#append the array\n",
    "#I didn't get back the 2 dimensions?\n",
    "\n",
    "appended_array=np.append(x,[[40,50,60],[70,80,90]])\n",
    "print(appended_array)\n",
    "print(appended_array.ndim)"
   ]
  },
  {
   "cell_type": "markdown",
   "metadata": {
    "id": "N1G_5KJxCauG"
   },
   "source": [
    "12. Write a NumPy program to convert the values of Centigrade degrees into Fahrenheit degrees. Centigrade values are stored into a NumPy array.\n",
    "\n",
    "Sample Array [0, 12, 45.21 ,34, 99.91]\n",
    "\n",
    "Values in Fahrenheit degrees:                                           \n",
    "[  0.    12.    45.21  34.    99.91]                                    \n",
    "Values in  Centigrade degrees:                                          \n",
    "[-17.77777778 -11.11111111   7.33888889   1.11111111  37.72777778]"
   ]
  },
  {
   "cell_type": "markdown",
   "metadata": {
    "id": "Uj-LpZKxCauH"
   },
   "source": [
    "![python-numpy-image-exercise-14.png](attachment:python-numpy-image-exercise-14.png)"
   ]
  },
  {
   "cell_type": "code",
   "execution_count": 36,
   "metadata": {
    "id": "7AwNW6rFCauI"
   },
   "outputs": [
    {
     "name": "stdout",
     "output_type": "stream",
     "text": [
      "These are the Celsius values\n",
      "[-17.78 -11.11   7.34   1.11  37.73]\n"
     ]
    }
   ],
   "source": [
    "#Creating a conversion calculation\n",
    "#any variable with letters need to be defined\n",
    "#equation provided for C did not work???\n",
    "#use np.round to 2 decimals\n",
    "\n",
    "\n",
    "import numpy as np\n",
    "f_values = [0, 12, 45.21, 34, 99.91]\n",
    "f=np.array(f_values)\n",
    "print(\"Fahrenheit converted to Celsius:\")\n",
    "print(np.round((5*f/9 - 5*32/9),2))"
   ]
  },
  {
   "cell_type": "code",
   "execution_count": 39,
   "metadata": {},
   "outputs": [
    {
     "name": "stdout",
     "output_type": "stream",
     "text": [
      "Celcius converted to Fahrenheit:\n",
      "[-0.   12.   45.21 34.   99.91]\n"
     ]
    }
   ],
   "source": [
    "c_values = [-17.77777778, -11.11111111, 7.33888889, 1.11111111, 37.72777778]\n",
    "C=np.array(c_values)\n",
    "print('Celcius converted to Fahrenheit:')\n",
    "print(np.round((9*C+(32*5))/5,2))"
   ]
  },
  {
   "cell_type": "markdown",
   "metadata": {
    "id": "LUAtd6-eCauI"
   },
   "source": [
    "13. Write a NumPy program to find the number of elements of an array, length of one array element in bytes and total bytes consumed by the elements"
   ]
  },
  {
   "cell_type": "markdown",
   "metadata": {
    "id": "VeTrKqtxCauJ"
   },
   "source": [
    "![python-numpy-image-exercise-16.png](attachment:python-numpy-image-exercise-16.png)"
   ]
  },
  {
   "cell_type": "code",
   "execution_count": 40,
   "metadata": {
    "id": "ltgwKWghCauJ"
   },
   "outputs": [
    {
     "name": "stdout",
     "output_type": "stream",
     "text": [
      "Size of the array:  3\n",
      "Length of one array element in bytes:  8\n",
      "Total bytes consumed by the elements of the array:  24\n"
     ]
    }
   ],
   "source": [
    "#x.size gives you # of elements of a given axis\n",
    "#memory numpy arrays take up = dtype, itemsize\n",
    "#itemsize is length of 1 array in bytes, 32 is default = 4\n",
    "#nbytes=.size*.itemsize\n",
    "#The float () method takes a single parameter: \n",
    "#x - number or string that needs to be converted to floating point #\n",
    "#Floating point # = real # or # contains a fractional part\n",
    "#dtype=np.float(64) taken from numpy API reference\n",
    "\n",
    "\n",
    "x = np.array([1,2,3], dtype=np.float64)\n",
    "print(\"Size of the array: \", x.size)\n",
    "print(\"Length of one array element in bytes: \", x.itemsize)\n",
    "print(\"Total bytes consumed by the elements of the array: \", x.nbytes)"
   ]
  },
  {
   "cell_type": "markdown",
   "metadata": {
    "id": "pUv_YiQkCauJ"
   },
   "source": [
    "14. Write a NumPy program to find common values between two arrays.\n",
    "\n",
    "Array1:  [ 0 10 20 40 60]                                              \n",
    "Array2:  [10, 30, 40]                                                  \n",
    "Common values between two arrays:                                      \n",
    "[10 40]"
   ]
  },
  {
   "cell_type": "markdown",
   "metadata": {
    "id": "n1W5hztKCauK"
   },
   "source": [
    "![python-numpy-image-exercise-18.png](attachment:python-numpy-image-exercise-18.png)"
   ]
  },
  {
   "cell_type": "code",
   "execution_count": 42,
   "metadata": {
    "id": "BcHtJ_zfCauK",
    "scrolled": false
   },
   "outputs": [
    {
     "name": "stdout",
     "output_type": "stream",
     "text": [
      "Array1:  [ 0 10 20 40 60]\n",
      "Array2:  [10, 30, 40]\n",
      "Common values between two arrays:\n",
      "[10 40]\n"
     ]
    }
   ],
   "source": [
    "#use.intersect1d to get common values of 2 1D arrays\n",
    "#how to increase tuple or dimensions?\n",
    "\n",
    "array1 = np.array([0, 10, 20, 40, 60])\n",
    "print(\"Array1: \",array1)\n",
    "array2 = [10, 30, 40]\n",
    "print(\"Array2: \",array2)\n",
    "print(\"Common values between two arrays:\")\n",
    "print(np.intersect1d(array1, array2))"
   ]
  },
  {
   "cell_type": "markdown",
   "metadata": {
    "id": "BTuniwmJCauK"
   },
   "source": [
    "15. Write a NumPy program to get the unique elements of an array. \n",
    "\n",
    "Expected Output:\n",
    "Original array:\n",
    "[10 10 20 20 30 30]\n",
    "Unique elements of the above array:\n",
    "[10 20 30]\n",
    "Original array:\n",
    "[[1 1]\n",
    "[2 3]]\n",
    "Unique elements of the above array:\n",
    "[1 2 3]"
   ]
  },
  {
   "cell_type": "markdown",
   "metadata": {
    "id": "kA4E41WhCauL"
   },
   "source": [
    "![python-numpy-image-exercise-19.png](attachment:python-numpy-image-exercise-19.png)"
   ]
  },
  {
   "cell_type": "code",
   "execution_count": 48,
   "metadata": {
    "id": "xjsVTEC4CauL"
   },
   "outputs": [
    {
     "name": "stdout",
     "output_type": "stream",
     "text": [
      "Original array:\n",
      "[10 10 20 20 30 30]\n",
      "Unique elements of the above array:\n",
      "[10 20 30]\n",
      "Original array:\n",
      "[[1 1]\n",
      " [2 3]]\n",
      "Unique elements of the above array:\n",
      "[1 2 3]\n"
     ]
    }
   ],
   "source": [
    "#numpy.unique function\n",
    "#start w/ original array and create x w/ numpy array\n",
    "#create string that preceeds x\n",
    "#create string preceeds x above the array\n",
    "#use np.unique here\n",
    "#you can define x twice???\n",
    "\n",
    "x = np.array([10, 10, 20, 20, 30, 30])\n",
    "print(\"Original array:\")\n",
    "print(x)\n",
    "print(\"Unique elements of the above array:\")\n",
    "print(np.unique(x))\n",
    "x = np.array([[1, 1], [2, 3]])\n",
    "print(\"Original array:\")\n",
    "print(x)\n",
    "print(\"Unique elements of the above array:\")\n",
    "print(np.unique(x))"
   ]
  },
  {
   "cell_type": "markdown",
   "metadata": {
    "id": "33Y-xe05CauL"
   },
   "source": [
    "16. Write a NumPy program to find the set difference of two arrays. The set difference will return the sorted, unique values in array1 that are not in array2.\n",
    "\n",
    "Array1:  [ 0 10 20 40 60 80]                                           \n",
    "Array2:  [10, 30, 40, 50, 70]                                          \n",
    "Unique values in array1 that are not in array2:                        \n",
    "[ 0 20 60 80]"
   ]
  },
  {
   "cell_type": "markdown",
   "metadata": {
    "id": "hwUzmh0LCauL"
   },
   "source": [
    "![python-numpy-image-exercise-20.png](attachment:python-numpy-image-exercise-20.png)"
   ]
  },
  {
   "cell_type": "code",
   "execution_count": 51,
   "metadata": {
    "id": "AvOLOwOzCauM",
    "scrolled": true
   },
   "outputs": [
    {
     "name": "stdout",
     "output_type": "stream",
     "text": [
      "Unique values in array1 that are not in array2: [ 0 20 60 80]\n"
     ]
    }
   ],
   "source": [
    "#The numpy setdiff1d() function is used to find the set difference of two arrays. \n",
    "#The following is the syntax:\n",
    "#diff = np.setdiff1d(ar1, ar2, assume_unique=False)\n",
    "\n",
    "arr1= [ 0, 10, 20, 40, 60, 80]\n",
    "arr2 = [10, 30, 40, 50, 70]\n",
    "diff=np.setdiff1d(arr1,arr2, assume_unique=False)\n",
    "print('Unique values in array1 that are not in array2:', diff)"
   ]
  },
  {
   "cell_type": "code",
   "execution_count": 52,
   "metadata": {},
   "outputs": [
    {
     "name": "stdout",
     "output_type": "stream",
     "text": [
      "[1 2]\n"
     ]
    }
   ],
   "source": [
    "# create two 2d arrays\n",
    "#need to understand this???\n",
    "\n",
    "ar1 = np.array([[1, 2, 3],\n",
    "                [4, 4, 1]])\n",
    "ar2 = np.array([[3, 4, 3],\n",
    "                [5, 6, 7]])\n",
    "# set difference ar1 - ar2\n",
    "ar1_2_diff = np.setdiff1d(ar1, ar2)\n",
    "# display the array\n",
    "print(ar1_2_diff)"
   ]
  },
  {
   "cell_type": "markdown",
   "metadata": {
    "id": "YJUlFFhdCauM"
   },
   "source": [
    "17. Write a NumPy program to find the set exclusive-or of two arrays. Set exclusive-or will return the sorted, unique values that are in only one (not both) of the input arrays.\n",
    "\n",
    "Array1:  [ 0 10 20 40 60 80]                                           \n",
    "Array2:  [10, 30, 40, 50, 70]                                          \n",
    "Unique values that are in only one (not both) of the input arrays:     \n",
    "[ 0 20 30 50 60 70 80]"
   ]
  },
  {
   "cell_type": "markdown",
   "metadata": {
    "id": "zDPoij9WCauN"
   },
   "source": [
    "![python-numpy-image-exercise-21.png](attachment:python-numpy-image-exercise-21.png)"
   ]
  },
  {
   "cell_type": "code",
   "execution_count": 99,
   "metadata": {
    "id": "1VpFCasoCauN"
   },
   "outputs": [
    {
     "name": "stdout",
     "output_type": "stream",
     "text": [
      "Array1:  [ 0 10 20 40 60 80]\n",
      "Array2:  [10, 30, 40, 50, 70]\n",
      "Unique values that are in only one (not both) of the input arrays:\n",
      "[ 0 20 30 50 60 70 80]\n"
     ]
    }
   ],
   "source": [
    "#numpy.setxor1d() function find the set exclusive-or of two arrays and \n",
    "#return the sorted, unique values that are in only one (not both) of \n",
    "#the input arrays.\n",
    "#Syntax : numpy.setxor1d(arr1, arr2, assume_unique = False)\n",
    "\n",
    "#Parameters :\n",
    "#arr1, arr2 : [array_like] Input arrays.\n",
    "#assume_unique : [bool] If True, the input arrays are both assumed to be \n",
    "#unique, which can speed up the calculation. Default is False.\n",
    "\n",
    "#Return : [ndarray] Sorted 1D array of unique values that are in only one of the input arrays.\n",
    "\n",
    "array1 = np.array([0, 10, 20, 40, 60, 80])\n",
    "print(\"Array1: \",array1)\n",
    "array2 = [10, 30, 40, 50, 70]\n",
    "print(\"Array2: \",array2)\n",
    "print(\"Unique values that are in only one (not both) of the input arrays:\")\n",
    "print(np.setxor1d(array1, array2))"
   ]
  },
  {
   "cell_type": "markdown",
   "metadata": {
    "id": "b_K90H_HCauN"
   },
   "source": [
    "18. Write a NumPy program to find the union of two arrays. Union will return the unique, sorted array of values that are in either of the two input arrays.\n",
    "\n",
    "Array1:  [ 0 10 20 40 60 80]                                           \n",
    "Array2:  [10, 30, 40, 50, 70]                                          \n",
    "Unique sorted array of values that are in either of the two input array\n",
    "s:                                                                     \n",
    "[ 0 10 20 30 40 50 60 70 80]"
   ]
  },
  {
   "cell_type": "markdown",
   "metadata": {
    "id": "K6VQGjM-CauO"
   },
   "source": [
    "![python-numpy-image-exercise-22.png](attachment:python-numpy-image-exercise-22.png)"
   ]
  },
  {
   "cell_type": "code",
   "execution_count": 101,
   "metadata": {
    "id": "hpU2L8V5CauO"
   },
   "outputs": [
    {
     "name": "stdout",
     "output_type": "stream",
     "text": [
      "Array1:  [ 0 10 20 40 60 80]\n",
      "Array2:  [10, 30, 40, 50, 70]\n",
      "Unique sorted array of values in either of the two input arrays:\n",
      "[ 0 10 20 30 40 50 60 70 80]\n"
     ]
    }
   ],
   "source": [
    "array1 = np.array([0, 10, 20, 40, 60, 80])\n",
    "print(\"Array1: \",array1)\n",
    "array2 = [10, 30, 40, 50, 70]\n",
    "print(\"Array2: \",array2)\n",
    "print(\"Unique sorted array of values in either of the two input arrays:\")\n",
    "print(np.union1d(array1, array2))"
   ]
  },
  {
   "cell_type": "markdown",
   "metadata": {
    "id": "T_5fN1wpCauO"
   },
   "source": [
    "19. Write a NumPy program to test whether all elements in an array evaluate to True.\n",
    "Note: 0 evaluates to False in python."
   ]
  },
  {
   "cell_type": "markdown",
   "metadata": {
    "id": "KoCaAYiBCauO"
   },
   "source": [
    "![python-numpy-image-exercise-23.png](attachment:python-numpy-image-exercise-23.png)"
   ]
  },
  {
   "cell_type": "code",
   "execution_count": 102,
   "metadata": {
    "id": "XQBuswnICauP"
   },
   "outputs": [
    {
     "name": "stdout",
     "output_type": "stream",
     "text": [
      "False\n",
      "True\n",
      "False\n",
      "True\n"
     ]
    }
   ],
   "source": [
    "#confused on this one\n",
    "print(np.all([[True,False],[True,True]]))\n",
    "print(np.all([[True,True],[True,True]]))\n",
    "print(np.all([10, 20, 0, -50]))\n",
    "print(np.all([10, 20, -50]))"
   ]
  },
  {
   "cell_type": "markdown",
   "metadata": {
    "id": "RDEPUWrqCauP"
   },
   "source": [
    "20. Write a NumPy program to find the indices of the maximum and minimum values along the given axis of an array.\n",
    "\n",
    "Original array:  [1 2 3 4 5 6]                                         \n",
    "Maximum Values:  5                                                     \n",
    "Minimum Values:  0"
   ]
  },
  {
   "cell_type": "markdown",
   "metadata": {
    "id": "i_uGYHs8CauP"
   },
   "source": [
    "![python-numpy-image-exercise-27.png](attachment:python-numpy-image-exercise-27.png)"
   ]
  },
  {
   "cell_type": "code",
   "execution_count": 103,
   "metadata": {
    "id": "qcFDjNiwCauQ"
   },
   "outputs": [
    {
     "name": "stdout",
     "output_type": "stream",
     "text": [
      "Original array:  [1 2 3 4 5 6]\n",
      "Maximum Values:  5\n",
      "Minimum Values:  0\n"
     ]
    }
   ],
   "source": [
    "x = np.array([1, 2, 3, 4, 5, 6])\n",
    "print(\"Original array: \",x)\n",
    "print(\"Maximum Values: \",np.argmax(x))\n",
    "print(\"Minimum Values: \",np.argmin(x))"
   ]
  },
  {
   "cell_type": "markdown",
   "metadata": {
    "id": "t-iMrX4WCauQ"
   },
   "source": [
    "21. Write a NumPy program to get the values and indices of the elements that are bigger than 10 in a given array."
   ]
  },
  {
   "cell_type": "markdown",
   "metadata": {
    "id": "e8gW5Tk2CauQ"
   },
   "source": [
    "![python-numpy-image-exercise-31.png](attachment:python-numpy-image-exercise-31.png)"
   ]
  },
  {
   "cell_type": "code",
   "execution_count": 104,
   "metadata": {
    "id": "k40Xj9DqCauR"
   },
   "outputs": [
    {
     "name": "stdout",
     "output_type": "stream",
     "text": [
      "Original array: \n",
      "[[ 0 10 20]\n",
      " [20 30 40]]\n",
      "Values bigger than 10 = [20 20 30 40]\n",
      "Their indices are  (array([0, 1, 1, 1], dtype=int64), array([2, 0, 1, 2], dtype=int64))\n"
     ]
    }
   ],
   "source": [
    "x = np.array([[0, 10, 20], [20, 30, 40]])\n",
    "print(\"Original array: \")\n",
    "print(x)\n",
    "print(\"Values bigger than 10 =\", x[x>10])\n",
    "print(\"Their indices are \", np.nonzero(x > 10))"
   ]
  },
  {
   "cell_type": "markdown",
   "metadata": {
    "id": "Vd5vJ9atCauR"
   },
   "source": [
    "22. Write a NumPy program to create an array of ones of size 2 and an array of zeros of size 2."
   ]
  },
  {
   "cell_type": "code",
   "execution_count": 105,
   "metadata": {
    "id": "MarJgh7jCauR"
   },
   "outputs": [
    {
     "name": "stdout",
     "output_type": "stream",
     "text": [
      "[1. 1.]\n",
      "[0. 0.]\n"
     ]
    }
   ],
   "source": [
    "#didn't find this online to double check my work\n",
    "ones_array=np.ones(2)\n",
    "zeros_array=np.zeros(2)\n",
    "print(ones_array)\n",
    "print(zeros_array)"
   ]
  },
  {
   "cell_type": "markdown",
   "metadata": {
    "id": "173IAXAuCauR"
   },
   "source": [
    "23. Write a NumPy program to create a contiguous flattened array.\n",
    "\n",
    "Original array:                                                        \n",
    "[[10 20 30]                                                            \n",
    " [20 40 50]]                                                           \n",
    "New flattened array:                                                   \n",
    "[10 20 30 20 40 50] "
   ]
  },
  {
   "cell_type": "markdown",
   "metadata": {
    "id": "bwR1IOoNCauS"
   },
   "source": [
    "![python-numpy-image-exercise-36.png](attachment:python-numpy-image-exercise-36.png)"
   ]
  },
  {
   "cell_type": "code",
   "execution_count": 106,
   "metadata": {
    "id": "geHyfe5mCauS"
   },
   "outputs": [
    {
     "name": "stdout",
     "output_type": "stream",
     "text": [
      "Original array:\n",
      "[[10 20 30]\n",
      " [20 40 50]]\n",
      "New flattened array:\n",
      "[10 20 30 20 40 50]\n"
     ]
    }
   ],
   "source": [
    "x = np.array([[10, 20, 30], [20, 40, 50]])\n",
    "print(\"Original array:\")\n",
    "print(x)\n",
    "y = np.ravel(x) #decreases dimensions down to 1?\n",
    "print(\"New flattened array:\")\n",
    "print(y)"
   ]
  },
  {
   "cell_type": "markdown",
   "metadata": {
    "id": "tUMrbByWCauT"
   },
   "source": [
    "24. Write a NumPy program to create a new shape to an array without changing its data.\n",
    "\n",
    "Reshape 3x2:                                                           \n",
    "[[1 2]                                                                 \n",
    " [3 4]                                                                 \n",
    " [5 6]]                                                                \n",
    "Reshape 2x3:                                                           \n",
    "[[1 2 3]                                                               \n",
    " [4 5 6]] "
   ]
  },
  {
   "cell_type": "markdown",
   "metadata": {
    "id": "3_2XzDanCauT"
   },
   "source": [
    "![python-numpy-image-exercise-38.png](attachment:python-numpy-image-exercise-38.png)"
   ]
  },
  {
   "cell_type": "code",
   "execution_count": 107,
   "metadata": {
    "id": "SAEqnoxiCauT"
   },
   "outputs": [
    {
     "name": "stdout",
     "output_type": "stream",
     "text": [
      "Reshape 3x2:\n",
      "[[1 2]\n",
      " [3 4]\n",
      " [5 6]]\n",
      "Reshape 2x3:\n",
      "[[1 2 3]\n",
      " [4 5 6]]\n"
     ]
    }
   ],
   "source": [
    "x = np.array([1, 2, 3, 4, 5, 6])\n",
    "y = np.reshape(x,(3,2)) \n",
    "print(\"Reshape 3x2:\")\n",
    "print(y)\n",
    "z = np.reshape(x,(2,3))\n",
    "print(\"Reshape 2x3:\")\n",
    "print(z)"
   ]
  },
  {
   "cell_type": "markdown",
   "metadata": {
    "id": "pbLckHzxCauU"
   },
   "source": [
    "25. Write a NumPy program to change the data type of an array.\n",
    "\n",
    "[[ 2  4  6]                                                            \n",
    " [ 6  8 10]]                                                           \n",
    "Data type of the array x is: int32                                     \n",
    "New Type:  float64                                                     \n",
    "[[  2.   4.   6.]                                                      \n",
    " [  6.   8.  10.]]"
   ]
  },
  {
   "cell_type": "code",
   "execution_count": 108,
   "metadata": {
    "id": "PkqGyel8CauU"
   },
   "outputs": [
    {
     "name": "stdout",
     "output_type": "stream",
     "text": [
      "[[ 2  4  6]\n",
      " [ 6  8 10]]\n",
      "Data type of the array x is: int32\n",
      "New Type:  float64\n",
      "[[ 2.  4.  6.]\n",
      " [ 6.  8. 10.]]\n"
     ]
    }
   ],
   "source": [
    "x = np.array([[2, 4, 6], [6, 8, 10]], np.int32)\n",
    "print(x)\n",
    "print(\"Data type of the array x is:\",x.dtype)#dtype is int32 because we me it that way. What's the advantage\n",
    "# Change the data type of x\n",
    "y = x.astype(float) #returns new dataframe\n",
    "print(\"New Type: \",y.dtype)\n",
    "print(y)"
   ]
  },
  {
   "cell_type": "markdown",
   "metadata": {
    "id": "V4IGqdBCCauU"
   },
   "source": [
    "26. Write a NumPy program to create a 1-D array of 20 element spaced evenly on a log scale between 2. and 5., exclusive."
   ]
  },
  {
   "cell_type": "code",
   "execution_count": 109,
   "metadata": {
    "id": "6uLE56kJCauV"
   },
   "outputs": [
    {
     "name": "stdout",
     "output_type": "stream",
     "text": [
      "[  100.           141.25375446   199.5262315    281.83829313\n",
      "   398.10717055   562.34132519   794.32823472  1122.0184543\n",
      "  1584.89319246  2238.72113857  3162.27766017  4466.83592151\n",
      "  6309.5734448   8912.50938134 12589.25411794 17782.79410039\n",
      " 25118.8643151  35481.33892336 50118.72336273 70794.57843841]\n"
     ]
    }
   ],
   "source": [
    "x =  np.logspace(2., 5., 20, endpoint=False)\n",
    "print(x)"
   ]
  },
  {
   "cell_type": "markdown",
   "metadata": {
    "id": "oV9TPoFtCauV"
   },
   "source": [
    "27. Write a NumPy program to concatenate two 2-dimensional arrays.\n",
    "Sample arrays: ([[0, 1, 3], [5, 7, 9]], [[0, 2, 4], [6, 8, 10]]\n",
    "\n",
    "[[ 0  1  3  0  2  4]                                                   \n",
    " [ 5  7  9  6  8 10]] "
   ]
  },
  {
   "cell_type": "markdown",
   "metadata": {
    "id": "BPft_4XnCauV"
   },
   "source": [
    "![python-numpy-image-exercise-58.png](attachment:python-numpy-image-exercise-58.png)"
   ]
  },
  {
   "cell_type": "code",
   "execution_count": 110,
   "metadata": {
    "id": "qXuOl4lqCauW"
   },
   "outputs": [
    {
     "name": "stdout",
     "output_type": "stream",
     "text": [
      "[[ 0  1  3  0  2  4]\n",
      " [ 5  7  9  6  8 10]]\n"
     ]
    }
   ],
   "source": [
    "a = np.array([[0, 1, 3], [5, 7, 9]])\n",
    "b = np.array([[0, 2, 4], [6, 8, 10]])\n",
    "c = np.concatenate((a, b), 1) #what does the one signify here\n",
    "print(c)"
   ]
  },
  {
   "cell_type": "markdown",
   "metadata": {
    "id": "CZTKUf7bCauW"
   },
   "source": [
    "28. Write a Python program to split an array of 14 elements into 3 arrays, each of which has 2, 4, and 8 elements in the original order.\n",
    "Sample array: [ 1 2 3 4 5 6 7 8 9 10 11 12 13 14]\n",
    "\n",
    "Original array: [ 1  2  3  4  5  6  7  8  9 10 11 12 13 14]            \n",
    "After splitting:                                                       \n",
    "[array([1, 2]), array([3, 4, 5, 6]), array([ 7,  8,  9, 10, 11, 12, 13,\n",
    " 14])] "
   ]
  },
  {
   "cell_type": "markdown",
   "metadata": {
    "id": "qvzOMZUeCauW"
   },
   "source": [
    "![python-numpy-image-exercise-61.png](attachment:python-numpy-image-exercise-61.png)"
   ]
  },
  {
   "cell_type": "code",
   "execution_count": 111,
   "metadata": {
    "id": "1XuYh8HHCauW"
   },
   "outputs": [
    {
     "name": "stdout",
     "output_type": "stream",
     "text": [
      "Original array: [ 1  2  3  4  5  6  7  8  9 10 11 12 13 14]\n",
      "After splitting:\n",
      "[array([1, 2]), array([3, 4, 5, 6]), array([ 7,  8,  9, 10, 11, 12, 13, 14])]\n"
     ]
    }
   ],
   "source": [
    "x = np.arange(1, 15)\n",
    "print(\"Original array:\",x)\n",
    "print(\"After splitting:\")\n",
    "print(np.split(x, [2, 6]))"
   ]
  },
  {
   "cell_type": "markdown",
   "metadata": {
    "id": "uQC-k9juCauX"
   },
   "source": [
    "29. Write a NumPy program to split of an array of shape 4x4 it into two arrays along the second axis.\n",
    "Sample array :\n",
    "[[ 0 1 2 3]\n",
    "[ 4 5 6 7]\n",
    "[ 8 9 10 11]\n",
    "[12 13 14 15]]\n",
    "\n",
    "\n",
    "After splitting horizontally:\n",
    "[array([[ 0,  1],\n",
    "       [ 4,  5],\n",
    "       [ 8,  9],\n",
    "       [12, 13]]), array([[ 2,  3],\n",
    "       [ 6,  7],\n",
    "       [10, 11],\n",
    "       [14, 15]]), array([], shape=(4, 0), dtype=int64)] "
   ]
  },
  {
   "cell_type": "markdown",
   "metadata": {
    "id": "GTTCt3wFCauX"
   },
   "source": [
    "![python-numpy-image-exercise-62.png](attachment:python-numpy-image-exercise-62.png)"
   ]
  },
  {
   "cell_type": "code",
   "execution_count": 112,
   "metadata": {
    "id": "A4vi6SLSCauX"
   },
   "outputs": [
    {
     "name": "stdout",
     "output_type": "stream",
     "text": [
      "Original array: [[ 0  1  2  3]\n",
      " [ 4  5  6  7]\n",
      " [ 8  9 10 11]\n",
      " [12 13 14 15]]\n",
      "After splitting horizontally:\n",
      "[array([[ 0,  1],\n",
      "       [ 4,  5],\n",
      "       [ 8,  9],\n",
      "       [12, 13]]), array([[ 2,  3],\n",
      "       [ 6,  7],\n",
      "       [10, 11],\n",
      "       [14, 15]]), array([], shape=(4, 0), dtype=int32)]\n"
     ]
    }
   ],
   "source": [
    "x = np.arange(16).reshape((4, 4))\n",
    "print(\"Original array:\",x)\n",
    "print(\"After splitting horizontally:\")\n",
    "print(np.hsplit(x, [2, 6])) #2 refers to the column split, can't find significance for 6"
   ]
  },
  {
   "cell_type": "markdown",
   "metadata": {
    "id": "i_t6rlYqCauY"
   },
   "source": [
    "30. Write a NumPy program to get the number of nonzero elements in an array.\n",
    "Original array:                                                        \n",
    "[[ 0 10 20]                                                            \n",
    " [20 30 40]]                                                           \n",
    "Number of non zero elements in the above array:                        \n",
    "5 "
   ]
  },
  {
   "cell_type": "markdown",
   "metadata": {
    "id": "OkUUM8dmCauY"
   },
   "source": [
    "![python-numpy-image-exercise-63.png](attachment:python-numpy-image-exercise-63.png)"
   ]
  },
  {
   "cell_type": "code",
   "execution_count": 113,
   "metadata": {
    "id": "YuwfJ-UgCauZ"
   },
   "outputs": [
    {
     "name": "stdout",
     "output_type": "stream",
     "text": [
      "Original array:\n",
      "[[ 0 10 20]\n",
      " [20 30 40]]\n",
      "Number of non zero elements in the above array:\n",
      "5\n"
     ]
    }
   ],
   "source": [
    "x = np.array([[0, 10, 20], [20, 30, 40]])\n",
    "print(\"Original array:\")\n",
    "print(x)\n",
    "print(\"Number of non zero elements in the above array:\")\n",
    "print(np.count_nonzero(x))#only num not included is 0"
   ]
  },
  {
   "cell_type": "markdown",
   "metadata": {
    "id": "KY0s0NUWCauZ"
   },
   "source": [
    "31. Write a NumPy program to add an extra column to a NumPy array."
   ]
  },
  {
   "cell_type": "markdown",
   "metadata": {
    "id": "XsZeR9-yCauZ"
   },
   "source": [
    "![python-numpy-image-exercise-86.png](attachment:python-numpy-image-exercise-86.png)"
   ]
  },
  {
   "cell_type": "code",
   "execution_count": 114,
   "metadata": {
    "id": "OWzy0co-Caua"
   },
   "outputs": [
    {
     "name": "stdout",
     "output_type": "stream",
     "text": [
      "[[ 10  20  30 100]\n",
      " [ 40  50  60 200]]\n"
     ]
    }
   ],
   "source": [
    "x = np.array([[10,20,30], [40,50,60]])\n",
    "y = np.array([[100], [200]])\n",
    "print(np.append(x, y, axis=1))"
   ]
  },
  {
   "cell_type": "markdown",
   "metadata": {
    "id": "8pXQsciuCaua"
   },
   "source": [
    "32. Write a NumPy program to remove the negative values in a NumPy array with 0."
   ]
  },
  {
   "cell_type": "markdown",
   "metadata": {
    "id": "iP-d6vntCaub"
   },
   "source": [
    "![python-numpy-image-exercise-90.png](attachment:python-numpy-image-exercise-90.png)"
   ]
  },
  {
   "cell_type": "code",
   "execution_count": 115,
   "metadata": {
    "id": "oTp-NfWgCaub"
   },
   "outputs": [
    {
     "name": "stdout",
     "output_type": "stream",
     "text": [
      "Original array:\n",
      "[-1 -4  0  2  3  4  5 -6]\n",
      "Replace the negative values of the said array with 0:\n",
      "[0 0 0 2 3 4 5 0]\n"
     ]
    }
   ],
   "source": [
    "x = np.array([-1, -4, 0, 2, 3, 4, 5, -6])\n",
    "print(\"Original array:\")\n",
    "print(x)\n",
    "print(\"Replace the negative values of the said array with 0:\")\n",
    "x[x < 0] = 0\n",
    "print(x)"
   ]
  },
  {
   "cell_type": "markdown",
   "metadata": {
    "id": "wb37hb9vCaub"
   },
   "source": [
    "33. Write a NumPy program to remove all rows in a NumPy array that contain non-numeric values."
   ]
  },
  {
   "cell_type": "markdown",
   "metadata": {
    "id": "-kQXiWTLCauc"
   },
   "source": [
    "![python-numpy-image-exercise-91.png](attachment:python-numpy-image-exercise-91.png)"
   ]
  },
  {
   "cell_type": "code",
   "execution_count": 119,
   "metadata": {
    "id": "gIQ9zSP8Cauc"
   },
   "outputs": [
    {
     "name": "stdout",
     "output_type": "stream",
     "text": [
      "Original array:\n",
      "[[ 1.  2.  3.]\n",
      " [ 4.  5. nan]\n",
      " [ 7.  8.  9.]\n",
      " [ 1.  0.  1.]]\n",
      "Remove all non-numeric elements of the said array\n",
      "[[1. 2. 3.]\n",
      " [7. 8. 9.]\n",
      " [1. 0. 1.]]\n"
     ]
    }
   ],
   "source": [
    "x = np.array([[1,2,3], [4,5,np.nan], [7,8,9], [True, False, True]])#.nan is the specific function\n",
    "print(\"Original array:\")\n",
    "print(x)\n",
    "print(\"Remove all non-numeric elements of the said array\")\n",
    "print(x[~np.isnan(x).any(axis=1)]) #removed entire row"
   ]
  },
  {
   "cell_type": "markdown",
   "metadata": {
    "id": "HiAn0fo-Cauc"
   },
   "source": [
    "34. Write a NumPy program to select indices satisfying multiple conditions in a NumPy array.\n",
    "\n",
    "Sample array:\n",
    "a = np.array([97, 101, 105, 111, 117])\n",
    "b = np.array(['a','e','i','o','u'])\n",
    "\n",
    "Note: Select the elements from the second array corresponding to elements in the first array that are greater than 100 and less than 110"
   ]
  },
  {
   "cell_type": "markdown",
   "metadata": {
    "id": "8012oBgfCaud"
   },
   "source": [
    "![python-numpy-image-exercise-92.png](attachment:python-numpy-image-exercise-92.png)"
   ]
  },
  {
   "cell_type": "code",
   "execution_count": 120,
   "metadata": {
    "id": "50eEScbCCaud"
   },
   "outputs": [
    {
     "name": "stdout",
     "output_type": "stream",
     "text": [
      "Original arrays\n",
      "[ 97 101 105 111 117]\n",
      "['a' 'e' 'i' 'o' 'u']\n",
      "Elements from the second array  corresponding to elements in the first array  that are greater than 100 and less than 110:\n",
      "['e' 'i']\n"
     ]
    }
   ],
   "source": [
    "a = np.array([97, 101, 105, 111, 117])\n",
    "b = np.array(['a','e','i','o','u'])\n",
    "print(\"Original arrays\")\n",
    "print(a)\n",
    "print(b)\n",
    "print(\"Elements from the second array  corresponding to elements in the first array  that are greater than 100 and less than 110:\")\n",
    "print(b[(100 < a) & (a < 110)])"
   ]
  },
  {
   "cell_type": "markdown",
   "metadata": {
    "id": "UTtkCX9CCaud"
   },
   "source": [
    "35. Write a NumPy program to count the frequency of unique values in numpy array.\n",
    "\n",
    "Original array:                                                        \n",
    "[10 10 20 10 20 20 20 30 30 50 40 40]                                  \n",
    "Frequency of unique values of the said array:                          \n",
    "[[10 20 30 40 50]                                                      \n",
    " [ 3  4  2  2  1]]"
   ]
  },
  {
   "cell_type": "markdown",
   "metadata": {
    "id": "n8YFM12wCaud"
   },
   "source": [
    "![python-numpy-image-exercise-94.png](attachment:python-numpy-image-exercise-94.png)"
   ]
  },
  {
   "cell_type": "code",
   "execution_count": 121,
   "metadata": {
    "id": "D5F4gTfFCaue"
   },
   "outputs": [
    {
     "name": "stdout",
     "output_type": "stream",
     "text": [
      "Original array:\n",
      "[10 10 20 10 20 20 20 30 30 50 40 40]\n",
      "Frequency of unique values of the said array:\n",
      "[[10 20 30 40 50]\n",
      " [ 3  4  2  2  1]]\n"
     ]
    }
   ],
   "source": [
    "a = np.array( [10,10,20,10,20,20,20,30, 30,50,40,40] )\n",
    "print(\"Original array:\")\n",
    "print(a)\n",
    "unique_elements, counts_elements = np.unique(a, return_counts=True)\n",
    "print(\"Frequency of unique values of the said array:\")\n",
    "print(np.asarray((unique_elements, counts_elements)))"
   ]
  },
  {
   "cell_type": "markdown",
   "metadata": {
    "id": "WIJwrNqsCaue"
   },
   "source": [
    "36. Write a NumPy program to access last two columns of a multidimensional columns.\n",
    "\n",
    "[[1 2 3]\n",
    " [4 5 6]\n",
    " [7 8 9]]\n",
    " \n",
    "[[2 3]\n",
    " [5 6]\n",
    " [8 9]]"
   ]
  },
  {
   "cell_type": "markdown",
   "metadata": {
    "id": "NT1U68PLCaue"
   },
   "source": [
    "![python-numpy-image-exercise-104.svg](attachment:python-numpy-image-exercise-104.svg)"
   ]
  },
  {
   "cell_type": "code",
   "execution_count": 122,
   "metadata": {
    "id": "sW_4r_MWCauf"
   },
   "outputs": [
    {
     "name": "stdout",
     "output_type": "stream",
     "text": [
      "[[1 2 3]\n",
      " [4 5 6]\n",
      " [7 8 9]]\n",
      "[[2 3]\n",
      " [5 6]\n",
      " [8 9]]\n"
     ]
    }
   ],
   "source": [
    "arra = np.array([[1, 2, 3], [4, 5, 6], [7, 8, 9]])\n",
    "print(arra)\n",
    "result = arra[:,[1,2]]\n",
    "print(result)"
   ]
  },
  {
   "cell_type": "markdown",
   "metadata": {
    "id": "IgsHmp9uCauf"
   },
   "source": [
    "37. Write a NumPy program to find indices of elements equal to zero in a NumPy array.\n",
    "\n",
    "Original array:\n",
    "[1 0 2 0 3 0 4 5 6 7 8]\n",
    "\n",
    "Indices of elements equal to zero of the said array:\n",
    "[1 3 5]"
   ]
  },
  {
   "cell_type": "markdown",
   "metadata": {
    "id": "tOeWsbUWCauf"
   },
   "source": [
    "![python-numpy-image-exercise-115.svg](attachment:python-numpy-image-exercise-115.svg)"
   ]
  },
  {
   "cell_type": "markdown",
   "metadata": {
    "id": "NrZ3IdOjCauf"
   },
   "source": []
  },
  {
   "cell_type": "code",
   "execution_count": 123,
   "metadata": {
    "id": "U5OeiToGCaug"
   },
   "outputs": [
    {
     "name": "stdout",
     "output_type": "stream",
     "text": [
      "Original array:\n",
      "[1 0 2 0 3 0 4 5 6 7 8]\n",
      "Indices of elements equal to zero of the said array:\n",
      "[1 3 5]\n"
     ]
    }
   ],
   "source": [
    "nums = np.array([1,0,2,0,3,0,4,5,6,7,8])\n",
    "print(\"Original array:\")\n",
    "print(nums)\n",
    "print(\"Indices of elements equal to zero of the said array:\")\n",
    "result = np.where(nums == 0)[0]\n",
    "print(result)"
   ]
  }
 ],
 "metadata": {
  "colab": {
   "name": "M1-02-NumpyArray_InClass-St-checkpoint.ipynb",
   "provenance": []
  },
  "kernelspec": {
   "display_name": "Python 3 (ipykernel)",
   "language": "python",
   "name": "python3"
  },
  "language_info": {
   "codemirror_mode": {
    "name": "ipython",
    "version": 3
   },
   "file_extension": ".py",
   "mimetype": "text/x-python",
   "name": "python",
   "nbconvert_exporter": "python",
   "pygments_lexer": "ipython3",
   "version": "3.9.7"
  }
 },
 "nbformat": 4,
 "nbformat_minor": 1
}
