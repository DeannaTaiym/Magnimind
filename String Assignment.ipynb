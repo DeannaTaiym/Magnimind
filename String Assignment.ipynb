{
 "cells": [
  {
   "cell_type": "code",
   "execution_count": 19,
   "id": "07278176",
   "metadata": {},
   "outputs": [
    {
     "name": "stdout",
     "output_type": "stream",
     "text": [
      "Enter your first name: deanna\n",
      "Enter your last name: taiym\n",
      "Deanna Taiym\n"
     ]
    }
   ],
   "source": [
    "#1. .capitilize function\n",
    "\n",
    "x = input('Enter your first name: ')\n",
    "y = input('Enter your last name: ')\n",
    "print(x.capitalize()+ \" \"+y.capitalize())"
   ]
  },
  {
   "cell_type": "code",
   "execution_count": 20,
   "id": "25c42af7",
   "metadata": {},
   "outputs": [
    {
     "name": "stdout",
     "output_type": "stream",
     "text": [
      "Deep into that darkness peering,\n",
      "\n",
      "Long I stood there, wondering, fearing,\n",
      "\n",
      "Doubting, dreaming dreams no mortals\n",
      "\n",
      "Ever dared to dream before;\n",
      "\n",
      "But the silence was unbroken,\n",
      "\n",
      "And the stillness gave no token,\n",
      "\n",
      "And the only word there spoken\n",
      "\n",
      "Was the whispered word, \"Lenore!\"\n",
      "\n",
      "This I whispered, and an echo\n",
      "\n",
      "Murmured back the word, \"Lenore!\"\n",
      "\n",
      "Merely this, and nothing more.\n"
     ]
    }
   ],
   "source": [
    "# 2. Ask the user to type in the first line of a poem and display the \n",
    "#length of the string. Ask for a starting number and an ending number \n",
    "#and then display just that section of the text \n",
    "#(remember Python starts counting from 0 and not 1).\n",
    "\n",
    "long_string = \"\"\"Deep into that darkness peering,\n",
    "\n",
    "Long I stood there, wondering, fearing,\n",
    "\n",
    "Doubting, dreaming dreams no mortals\n",
    "\n",
    "Ever dared to dream before;\n",
    "\n",
    "But the silence was unbroken,\n",
    "\n",
    "And the stillness gave no token,\n",
    "\n",
    "And the only word there spoken\n",
    "\n",
    "Was the whispered word, \"Lenore!\"\n",
    "\n",
    "This I whispered, and an echo\n",
    "\n",
    "Murmured back the word, \"Lenore!\"\n",
    "\n",
    "Merely this, and nothing more.\"\"\"\n",
    "\n",
    "print(long_string)"
   ]
  },
  {
   "cell_type": "code",
   "execution_count": 26,
   "id": "82723d7c",
   "metadata": {},
   "outputs": [
    {
     "name": "stdout",
     "output_type": "stream",
     "text": [
      "Enter the first line of the poem: Deep into that darkness peering,\n",
      "32\n",
      "Deep into that darkness peering,\n"
     ]
    }
   ],
   "source": [
    "x= input('Enter the first line of the poem: ')\n",
    "print(len(x))\n",
    "print(long_string[0:32])"
   ]
  },
  {
   "cell_type": "code",
   "execution_count": 29,
   "id": "0f29c9cd",
   "metadata": {},
   "outputs": [
    {
     "name": "stdout",
     "output_type": "stream",
     "text": [
      "    The reason why we remove it is because Python process these white space and if we have no \n",
      "idea about white spaces, there cannot properly process the text. \n",
      "The reason why we remove it is because Python process these white space and if we have no \n",
      "idea about white spaces, there cannot properly process the text.\n"
     ]
    }
   ],
   "source": [
    "#Removes extra characters from the start and end of a string and \n",
    "#explain why you need to remove white spaces while exploring text.\n",
    "\n",
    "new_string = \"\"\"    The reason why we remove it is because Python process these white space and if we have no \n",
    "idea about white spaces, there cannot properly process the text. \"\"\"\n",
    "print(new_string)\n",
    "print(new_string.strip())\n"
   ]
  }
 ],
 "metadata": {
  "kernelspec": {
   "display_name": "Python 3 (ipykernel)",
   "language": "python",
   "name": "python3"
  },
  "language_info": {
   "codemirror_mode": {
    "name": "ipython",
    "version": 3
   },
   "file_extension": ".py",
   "mimetype": "text/x-python",
   "name": "python",
   "nbconvert_exporter": "python",
   "pygments_lexer": "ipython3",
   "version": "3.9.7"
  }
 },
 "nbformat": 4,
 "nbformat_minor": 5
}
